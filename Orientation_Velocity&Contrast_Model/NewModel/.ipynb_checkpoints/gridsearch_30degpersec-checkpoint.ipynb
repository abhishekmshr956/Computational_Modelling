{
 "cells": [
  {
   "cell_type": "code",
   "execution_count": 1,
   "metadata": {},
   "outputs": [],
   "source": [
    "import numpy as np\n",
    "import scipy.io\n",
    "import matplotlib.pyplot as plt\n",
    "from scipy.optimize import minimize"
   ]
  },
  {
   "cell_type": "code",
   "execution_count": 106,
   "metadata": {},
   "outputs": [],
   "source": [
    "def load_data(filename):\n",
    "    \"\"\"function to load data\"\"\"\n",
    "    x = scipy.io.loadmat(filename)['PDmean'][20:100,0:48:4] #loading data only for 15 deg per sec\n",
    "    return x"
   ]
  },
  {
   "cell_type": "code",
   "execution_count": 91,
   "metadata": {},
   "outputs": [],
   "source": [
    "global T4_Arclight, T4_Gcamp #global varaiables to hold Arclight and Gcamp data\n",
    "\n",
    "filename = 'data/T4c_ArcLight/ARCOri_Velocity_Mean.mat' \n",
    "T4_Arclight = load_data(filename)  #load Arclight data\n",
    "\n",
    "filename = 'data/T4c_GCaMP/Ori_Mean_Velocity.mat'\n",
    "T4_Gcamp = load_data(filename)  #load Gcamp data"
   ]
  },
  {
   "cell_type": "code",
   "execution_count": 92,
   "metadata": {},
   "outputs": [],
   "source": [
    "def plot_data(data_list, dt=0.0769, fig_size=(10,5), speed=[15,30,60,120], title='', savefig=False, c=['k','r']):\n",
    "    \"\"\"Plots data for multiple datsets\"\"\"\n",
    "    n_col = len(speed) #number of columns i.e. number of speed stimuli\n",
    "    n_sti = data_list[0].shape[1] #number of orientations\n",
    "    #x_values = np.arange(data_list[0].shape[0]) * dt #changing x-axis to time. multiply with time step dt = 1/frequency\n",
    "    f, ax = plt.subplots(int(n_sti/n_col), int(n_col), sharex=True, sharey= True, figsize=fig_size)\n",
    "    c_count = 0 #color count for different dataset\n",
    "    for data in data_list:\n",
    "        count = 0 #count for stimuli\n",
    "        for i in range(int(n_sti/n_col)):\n",
    "            for j in range(n_col):\n",
    "                #ax[i, j].plot(x_values, data[:, count], color=c[c_count])\n",
    "                ax[i, j].plot(data[:, count], color=c[c_count])\n",
    "                count = count + 1\n",
    "        c_count += 1\n",
    "    plt.suptitle(title, fontsize=15)\n",
    "    plt.tight_layout()\n",
    "    plt.subplots_adjust(top=0.95)\n",
    "    if savefig:\n",
    "        plt.savefig('figures/'+title+'.pdf',dpi=1000);\n",
    "        \n",
    "def plot_data_twinaxis(data_list, dt=0.0769, fig_size=(10,5), speed=[15,30,60,120], title='', savefig=False, c=['k','r']):\n",
    "    \"\"\"Plots data for multiple datsets\"\"\"\n",
    "    n_col = len(speed) #number of columns i.e. number of speed stimuli\n",
    "    n_sti = data_list[0].shape[1] #number of orientations\n",
    "    x_values = np.arange(data_list[0].shape[0]) * dt #changing x-axis to time. multiply with time step dt = 1/frequency\n",
    "    f, ax = plt.subplots(int(n_sti/n_col), int(n_col), sharex=True, sharey= True, figsize=fig_size)\n",
    "    c_count = 0 #color count for different dataset\n",
    "    for data in data_list:\n",
    "        count = 0 #count for stimuli\n",
    "        for i in range(int(n_sti/n_col)):\n",
    "            for j in range(n_col):\n",
    "                if c_count == 0:\n",
    "                    ax[i, j].plot(x_values, data[:, count], color=c[c_count])\n",
    "                else :\n",
    "                    ax1 = ax[i,j].twinx()\n",
    "                    ax1.plot(x_values, data[:, count], color=c[c_count])\n",
    "                    #ax1.set_ylim(-20,250)\n",
    "                #ax[i, j].plot(data[:, count], color=c[c_count])\n",
    "                count = count + 1\n",
    "        c_count += 1\n",
    "    plt.suptitle(title, fontsize=15)\n",
    "    plt.tight_layout()\n",
    "    plt.subplots_adjust(top=0.95)\n",
    "    if savefig:\n",
    "        plt.savefig('figures/'+title+'.pdf',dpi=1000);"
   ]
  },
  {
   "cell_type": "code",
   "execution_count": 93,
   "metadata": {},
   "outputs": [],
   "source": [
    "def lowpass(x, tau, dt):\n",
    "    y = np.zeros_like(x)\n",
    "    n = x.shape[0]   #length of time dimension\n",
    "    alpha = dt / (tau+dt)\n",
    "    y[0] = x[0]\n",
    "    for i in np.arange(1,n):\n",
    "        y[i] = alpha*x[i] + (1-alpha)*y[i-1]\n",
    "    return y\n",
    "\n",
    "def highpass(x, tau, dt):\n",
    "    y = x - lowpass(x, tau, dt)\n",
    "    return y\n",
    "\n",
    "def bandpass(x, tauhp, taulp, dt):\n",
    "    y = highpass(x, tauhp, dt)\n",
    "    y = lowpass(y, taulp, dt)\n",
    "    return y\n",
    "\n",
    "def threshold_cut(x, thres):\n",
    "    x_copy = x.copy()\n",
    "    x_copy[x_copy<thres] = 0\n",
    "    return x_copy \n",
    "\n",
    "def Ca_model(x, thres, tauhp, taulp1, gain1, taulp2, gain2, dt=0.0769):\n",
    "    x_thres = threshold_cut(x,thres)\n",
    "    x_thres_bp1 = bandpass(x_thres, tauhp, taulp1, dt)\n",
    "    x_1 = x_thres_bp1 * gain1\n",
    "    x_thres_bp2 = bandpass(x_thres, tauhp, taulp2, dt)\n",
    "    x_2 = x_thres_bp2 * gain2\n",
    "    y = x_1 + x_2\n",
    "    #y = np.roll(y, int(tshift), axis=0)\n",
    "    return y\n",
    "\n",
    "def Ca_model_1(x, thres, tauhp, taulp1, gain1, dt=0.0769):\n",
    "    x_thres = threshold_cut(x,thres)\n",
    "    x_thres_hp = highpass(x_thres, tauhp, dt)\n",
    "    x_thres_hp_lp = lowpass(x_thres_hp, taulp1, dt)\n",
    "    y = x_thres_hp_lp * gain1\n",
    "    return y\n",
    "\n",
    "def Ca_model_2(x, thres, tauhp, taulp1, taulp2, gain, dt=0.0769):\n",
    "    x_thres = threshold_cut(x, thres)\n",
    "    x_thres_hp = highpass(x_thres, tauhp, dt)\n",
    "    x_thres_hp_lp1 = lowpass(x_thres_hp, taulp1, dt)\n",
    "    #x_thres_hp_lp1 = shift_signal(x_thres_hp_lp1, T4Ca_model, vel=15.0)\n",
    "    x_thres_hp_lp2 = lowpass(x_thres_hp, taulp2, dt) \n",
    "    #x_thres_hp_lp2 = shift_signal(x_thres_hp_lp2, T4Ca_model, vel=15.0)\n",
    "    y = (x_thres_hp_lp1 + x_thres_hp_lp2)*gain\n",
    "    #plot_data([x, x_thres, x_thres_hp, x_thres_hp_lp1, x_thres_hp_lp2, y], c=['k','r','g','blue','brown','grey']);\n",
    "    return y\n",
    "\n",
    "def shift_signal(gcamp_data, model_data, vel):\n",
    "    if vel == 15.0:\n",
    "        shift_columns = np.argmax(gcamp_data[45:70,:],axis=0)-np.argmax(model_data[45:70,:],axis=0)\n",
    "    A = model_data\n",
    "    r = shift_columns\n",
    "    rows, columns = np.ogrid[:A.shape[0], :A.shape[1]]\n",
    "    r[r < 0] += A.shape[0]\n",
    "    rows = rows - r[np.newaxis,:]\n",
    "    model_shift = A[rows, columns]\n",
    "    return model_shift"
   ]
  },
  {
   "cell_type": "code",
   "execution_count": 94,
   "metadata": {},
   "outputs": [],
   "source": [
    "#Ca_model_2(T4_Arclight, 3.2,1.0,4.0,10.0,200.0);"
   ]
  },
  {
   "cell_type": "code",
   "execution_count": 95,
   "metadata": {},
   "outputs": [],
   "source": [
    "#plot_data_twinaxis([T4_Arclight, T4_Gcamp],fig_size=(10,5))"
   ]
  },
  {
   "cell_type": "code",
   "execution_count": 96,
   "metadata": {},
   "outputs": [],
   "source": [
    "#plot_data([T4_Gcamp],fig_size=(10,5),c=['r'])"
   ]
  },
  {
   "cell_type": "code",
   "execution_count": 107,
   "metadata": {},
   "outputs": [],
   "source": [
    "dt=0.0769\n",
    "thres_val = np.linspace(-0.05,0.05,10)\n",
    "tauhp_val = np.linspace(0,2,10)\n",
    "taulp1_val = np.linspace(0,20,10)\n",
    "gain1_val = np.linspace(0,500,10)\n",
    "taulp2_val = np.linspace(0,20,10)\n",
    "gain2_val = np.linspace(0,200,10)\n",
    "gain_val = np.linspace(0,500,10)\n",
    "#tshift_val = np.linspace(-50, 50, 5)"
   ]
  },
  {
   "cell_type": "code",
   "execution_count": null,
   "metadata": {},
   "outputs": [],
   "source": [
    "#CalciumModel 2\n",
    "error_list = []\n",
    "para_dict = {}\n",
    "counter = 0\n",
    "for thres in thres_val:\n",
    "    for tauhp in tauhp_val:\n",
    "        for taulp1 in taulp1_val:\n",
    "            for taulp2 in taulp2_val:\n",
    "                for gain in gain_val:\n",
    "                    T4Ca_model = Ca_model_2(T4_Arclight, thres, tauhp, taulp1, taulp2, gain)\n",
    "                    T4Ca_model = shift_signal(T4_Gcamp, T4Ca_model, vel=15.0)\n",
    "                    #T4Ca_model = shift_signal(T4_Gcamp, T4Ca_model) #align signals\n",
    "                    error1 = np.mean(np.sqrt(np.mean((T4_Gcamp[10:65]-T4Ca_model[10:65])**2,axis=0)))\n",
    "                    error2 = np.sqrt(np.mean((T4_Gcamp[45:70,:].max(axis=0)-T4Ca_model[45:70,:].max(axis=0))**2)) #peakerror\n",
    "                    timeerror = 0.8 #weight for time error\n",
    "                    error = timeerror*error1 + (1.0-timeerror)*error2 #peak error aand time error combined\n",
    "                    error_list.append(error)\n",
    "                    para_dict[counter] = (thres, tauhp, taulp1, taulp2, gain)\n",
    "                    counter +=1"
   ]
  },
  {
   "cell_type": "code",
   "execution_count": null,
   "metadata": {},
   "outputs": [],
   "source": [
    "model_p = para_dict[np.argmin(error_list)]\n",
    "(thres_model, tauhp_model, taulp1_model, taulp2_model, gain_model) = model_p\n",
    "(np.min(error_list),thres_model, tauhp_model, taulp1_model, taulp2_model, gain_model)"
   ]
  },
  {
   "cell_type": "code",
   "execution_count": null,
   "metadata": {},
   "outputs": [],
   "source": [
    "T4_model = Ca_model_2(T4_Arclight, thres_model, tauhp_model, taulp1_model, taulp2_model, gain_model)\n",
    "T4_model = shift_signal(T4_Gcamp, T4_model, vel=15.0)"
   ]
  },
  {
   "cell_type": "code",
   "execution_count": null,
   "metadata": {},
   "outputs": [],
   "source": [
    "plot_data([T4_Gcamp[10:70,:], T4_model[10:70,:]])"
   ]
  },
  {
   "cell_type": "code",
   "execution_count": null,
   "metadata": {},
   "outputs": [],
   "source": [
    "plot_data([T4_model])"
   ]
  },
  {
   "cell_type": "code",
   "execution_count": null,
   "metadata": {},
   "outputs": [],
   "source": [
    "plot_data([T4_Arclight])"
   ]
  },
  {
   "cell_type": "code",
   "execution_count": 170,
   "metadata": {},
   "outputs": [],
   "source": [
    "# #CalciumModel 1\n",
    "# error_list = []\n",
    "# para_dict = {}\n",
    "# counter = 0\n",
    "# for thres in thres_val:\n",
    "#     for tauhp in tauhp_val:\n",
    "#         for taulp1 in taulp1_val:\n",
    "#             for gain1 in gain1_val:\n",
    "#                 T4Ca_model = Ca_model_1(T4_Arclight, thres, tauhp, taulp1, gain1)\n",
    "#                 T4Ca_model = shift_signal(T4_Gcamp, T4Ca_model, vel=15.0)\n",
    "#                 #T4Ca_model = shift_signal(T4_Gcamp, T4Ca_model) #align signals\n",
    "#                 error1 = np.mean(np.sqrt(np.mean((T4_Gcamp[10:65]-T4Ca_model[10:65])**2,axis=0)))\n",
    "#                 error2 = np.sqrt(np.mean((T4_Gcamp[45:70,:].max(axis=0)-T4Ca_model[45:70,:].max(axis=0))**2)) #peakerror\n",
    "#                 timeerror = 0.8 #weight for time error\n",
    "#                 error = timeerror*error1 + (1.0-timeerror)*error2 #peak error aand time error combined\n",
    "#                 error_list.append(error)\n",
    "#                 para_dict[counter] = (thres, tauhp, taulp1, gain1)\n",
    "#                 counter +=1"
   ]
  },
  {
   "cell_type": "code",
   "execution_count": null,
   "metadata": {},
   "outputs": [],
   "source": []
  }
 ],
 "metadata": {
  "kernelspec": {
   "display_name": "Python 2",
   "language": "python",
   "name": "python2"
  },
  "language_info": {
   "codemirror_mode": {
    "name": "ipython",
    "version": 2
   },
   "file_extension": ".py",
   "mimetype": "text/x-python",
   "name": "python",
   "nbconvert_exporter": "python",
   "pygments_lexer": "ipython2",
   "version": "2.7.16"
  }
 },
 "nbformat": 4,
 "nbformat_minor": 2
}
