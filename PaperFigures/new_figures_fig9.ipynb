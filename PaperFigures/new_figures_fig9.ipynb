{
 "cells": [
  {
   "cell_type": "code",
   "execution_count": 26,
   "metadata": {},
   "outputs": [],
   "source": [
    "import matplotlib.pyplot as plt\n",
    "import numpy as np\n",
    "import textwrap"
   ]
  },
  {
   "cell_type": "code",
   "execution_count": 27,
   "metadata": {},
   "outputs": [],
   "source": [
    "plt.rcParams['axes.facecolor'] = '#EEEEEE'\n",
    "plt.rcParams['figure.facecolor'] = 'white'\n",
    "plt.rcParams['lines.linewidth'] = 2.0\n",
    "#plt.style.use('ggplot')\n",
    "\n",
    "plt.rc('xtick', labelsize=10)\n",
    "plt.rc('ytick', labelsize=10)"
   ]
  },
  {
   "cell_type": "code",
   "execution_count": 28,
   "metadata": {},
   "outputs": [],
   "source": [
    "def setmyaxes(myxpos, myypos, myxsize, myysize):\n",
    "    ax = plt.axes([myxpos, myypos, myxsize, myysize])\n",
    "    ax.xaxis.set_ticks_position('bottom')\n",
    "    ax.yaxis.set_ticks_position('left')"
   ]
  },
  {
   "cell_type": "code",
   "execution_count": 29,
   "metadata": {},
   "outputs": [],
   "source": [
    "label=['Mi1', 'Tm3', 'T4c complete dataset']\n",
    "model_misfit = np.zeros((2,3))\n",
    "model_misfit[0] = [6.5, 5.9, 34] #model misfit for Smodel Mi1, Tm3, T4c complete dataset\n",
    "model_misfit[1] = [11.9, 7, 21] #model misfit for Mmodel Mi1, Tm3, T4c complete dataset\n",
    "# model_misfit[0] = [8.6, 10.29, 8.8, 34.0] #model misfit for Smodel Mi1, Tm3, T4cPD gratings vel, contrast\n",
    "# model_misfit[1] = [11.0, 12.2, 7.1, 20.0] #model misfit for Mmodel Mi1, Tm3,T4cPD gratings vel, contrast"
   ]
  },
  {
   "cell_type": "code",
   "execution_count": 34,
   "metadata": {},
   "outputs": [
    {
     "data": {
      "text/plain": [
       "0.21599999999999997"
      ]
     },
     "execution_count": 34,
     "metadata": {},
     "output_type": "execute_result"
    }
   ],
   "source": [
    "(0.36/5)*3"
   ]
  },
  {
   "cell_type": "code",
   "execution_count": 36,
   "metadata": {},
   "outputs": [
    {
     "data": {
      "image/png": "[encoded data removed]",
      "text/plain": [
       "<Figure size 864x432 with 2 Axes>"
      ]
     },
     "metadata": {},
     "output_type": "display_data"
    }
   ],
   "source": [
    "def plot_subfig10(data, label, cell_label, cell_color):\n",
    "    \n",
    "    mywidth = 0.21599999999999997\n",
    "    mydim=3\n",
    "    \n",
    "    \n",
    "    plt.bar(np.arange(mydim),data[0],width=mywidth,color=cell_color[0],label=cell_label[0])\n",
    "    plt.bar(np.arange(mydim)+mywidth,data[1],width=mywidth,color=cell_color[1],label=cell_label[1])\n",
    "    plt.xticks(np.arange(mydim)+mywidth/2.0,[textwrap.fill(label, 10) for label in label])\n",
    "    #plt.xticks(np.arange(mydim)+mywidth/2.0,label)\n",
    "    #plt.plot([-0.5,mydim-0.5],[0,0],linestyle='dashed',color='black')\n",
    "    plt.ylabel('model error [% of data power]')\n",
    "    plt.legend(loc=0,frameon=False,fontsize=10)\n",
    "    plt.ylim(0.0,35.0)\n",
    "    #print(param_data, param_error)\n",
    "    \n",
    "def plot_fig10():\n",
    "    plt.figure(figsize=(12,6))\n",
    "    xsize=0.34\n",
    "    ysize=0.6\n",
    "    xoffs=0.40\n",
    "    yoffs=0.15\n",
    "    leftm=0.08\n",
    "    cell_label=['Simple model','Multiplicative model']\n",
    "    cell_color=['deepskyblue','orange']\n",
    "    \n",
    "    for i in range(2):\n",
    "        setmyaxes(i*xoffs+leftm, yoffs,xsize,ysize)\n",
    "        if i == 0:\n",
    "            plot_subfig10(model_misfit.copy(),label, cell_label,cell_color)\n",
    "        if i==1:\n",
    "             plt.axis('off')\n",
    "    #ax = plt.gca()\n",
    "    #ax.set_xbound(-0.75 ,4.75)    \n",
    "    plt.savefig('figures/new_figures/figure9.pdf',dpi=1000,bbox_inches='tight')\n",
    "    \n",
    "plot_fig10()"
   ]
  },
  {
   "cell_type": "code",
   "execution_count": 60,
   "metadata": {},
   "outputs": [],
   "source": [
    "###Fig9_1"
   ]
  },
  {
   "cell_type": "code",
   "execution_count": 17,
   "metadata": {},
   "outputs": [],
   "source": [
    "label=['T4c']\n",
    "model_misfit = [34.0, 20.7] #model misfit for Lmodel, Mmodel T4c"
   ]
  },
  {
   "cell_type": "code",
   "execution_count": 20,
   "metadata": {},
   "outputs": [
    {
     "data": {
      "image/png": "[encoded data removed]",
      "text/plain": [
       "<Figure size 360x360 with 1 Axes>"
      ]
     },
     "metadata": {},
     "output_type": "display_data"
    }
   ],
   "source": [
    "def plot_subfig9(data, label, cell_label, cell_color):\n",
    "    \n",
    "    mywidth = 0.2\n",
    "    mydim=1\n",
    "    \n",
    "    plt.bar(np.arange(mydim),data[0],width=mywidth,color=cell_color[0],label=cell_label[0])\n",
    "    plt.bar(np.arange(mydim)+mywidth,data[1],width=mywidth,color=cell_color[1],label=cell_label[1])\n",
    "    plt.xticks(np.arange(mydim)+mywidth/2.0,label)\n",
    "    #plt.plot([-0.5,mydim-0.5],[0,0],linestyle='dashed',color='black')\n",
    "    plt.ylabel('model error [% of data power]')\n",
    "    plt.legend(loc=0,frameon=False,fontsize=14)\n",
    "    plt.ylim(0.0,40.0)\n",
    "    #print(param_data, param_error)\n",
    "    \n",
    "def plot_fig9_1():\n",
    "    plt.figure(figsize=(5,5))\n",
    "    \n",
    "    cell_label=['Lmodel','Mmodel']\n",
    "    cell_color=['blue','green']\n",
    "    \n",
    "    plt.subplot(1,1,1)\n",
    "    plot_subfig9(model_misfit.copy(),label, cell_label,cell_color)\n",
    "        \n",
    "    plt.savefig('figures/new_figures/figure9_1.pdf',dpi=1000)\n",
    "plot_fig9_1()"
   ]
  },
  {
   "cell_type": "code",
   "execution_count": null,
   "metadata": {},
   "outputs": [],
   "source": []
  }
 ],
 "metadata": {
  "kernelspec": {
   "display_name": "Python 3",
   "language": "python",
   "name": "python3"
  },
  "language_info": {
   "codemirror_mode": {
    "name": "ipython",
    "version": 3
   },
   "file_extension": ".py",
   "mimetype": "text/x-python",
   "name": "python",
   "nbconvert_exporter": "python",
   "pygments_lexer": "ipython3",
   "version": "3.8.3"
  }
 },
 "nbformat": 4,
 "nbformat_minor": 4
}
